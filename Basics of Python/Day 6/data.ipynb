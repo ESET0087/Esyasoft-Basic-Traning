{
 "cells": [
  {
   "cell_type": "code",
   "execution_count": null,
   "id": "d5a1a4f9",
   "metadata": {},
   "outputs": [],
   "source": [
    "import pandas as pd"
   ]
  },
  {
   "cell_type": "code",
   "execution_count": null,
   "id": "5926ce76",
   "metadata": {},
   "outputs": [],
   "source": [
    "df= pd.read_csv(\"data.csv\")\n",
    "df.head(5)"
   ]
  },
  {
   "cell_type": "code",
   "execution_count": null,
   "id": "1da0e132",
   "metadata": {},
   "outputs": [],
   "source": [
    "df.describe()"
   ]
  },
  {
   "cell_type": "code",
   "execution_count": null,
   "id": "48f6e4aa",
   "metadata": {},
   "outputs": [],
   "source": [
    "df.isnull().sum()"
   ]
  },
  {
   "cell_type": "code",
   "execution_count": null,
   "id": "ad24e1b2",
   "metadata": {},
   "outputs": [],
   "source": [
    "df = df.drop(['Engine Fuel Type', 'Market Category', 'Vehicle Style', 'Popularity', 'Number of Doors', 'Vehicle Size'], axis=1)"
   ]
  },
  {
   "cell_type": "code",
   "execution_count": null,
   "id": "ec15e08f",
   "metadata": {},
   "outputs": [],
   "source": [
    "df.info()"
   ]
  },
  {
   "cell_type": "code",
   "execution_count": null,
   "id": "da6a720e",
   "metadata": {},
   "outputs": [],
   "source": [
    "df = df.rename(columns={'Engine HP': 'HP', 'Transmission Type': 'Transmission', 'Engine Cylinders': 'Cylinders'})"
   ]
  },
  {
   "cell_type": "code",
   "execution_count": null,
   "id": "fee5724f",
   "metadata": {},
   "outputs": [],
   "source": [
    "df.head(5)"
   ]
  },
  {
   "cell_type": "code",
   "execution_count": null,
   "id": "e08b8641",
   "metadata": {},
   "outputs": [],
   "source": [
    "duplicates_df = df[df.duplicated()]\n",
    "duplicates_df.shape"
   ]
  },
  {
   "cell_type": "code",
   "execution_count": null,
   "id": "5a15777a",
   "metadata": {},
   "outputs": [],
   "source": [
    "duplicates_df.head()"
   ]
  },
  {
   "cell_type": "code",
   "execution_count": null,
   "id": "ebed9d40",
   "metadata": {},
   "outputs": [],
   "source": [
    "df = df.drop_duplicates()\n",
    "df.shape"
   ]
  },
  {
   "cell_type": "code",
   "execution_count": null,
   "id": "81884bd6",
   "metadata": {},
   "outputs": [],
   "source": [
    "df.info()"
   ]
  },
  {
   "cell_type": "code",
   "execution_count": null,
   "id": "e16a62bf",
   "metadata": {},
   "outputs": [],
   "source": [
    "df.isnull().sum()"
   ]
  },
  {
   "cell_type": "code",
   "execution_count": null,
   "id": "811605f7",
   "metadata": {},
   "outputs": [],
   "source": [
    "df = df.dropna()"
   ]
  },
  {
   "cell_type": "code",
   "execution_count": null,
   "id": "8356b536",
   "metadata": {},
   "outputs": [],
   "source": [
    "df.info()"
   ]
  },
  {
   "cell_type": "code",
   "execution_count": null,
   "id": "60e849e5",
   "metadata": {},
   "outputs": [],
   "source": [
    "df.isnull().sum()"
   ]
  },
  {
   "cell_type": "code",
   "execution_count": null,
   "id": "1b5790a1",
   "metadata": {},
   "outputs": [],
   "source": [
    "import seaborn as sns"
   ]
  },
  {
   "cell_type": "code",
   "execution_count": null,
   "id": "c439b673",
   "metadata": {},
   "outputs": [],
   "source": [
    "sns.boxenplot(x = df['HP'])"
   ]
  },
  {
   "cell_type": "code",
   "execution_count": null,
   "id": "a2d75c70",
   "metadata": {},
   "outputs": [],
   "source": [
    "sns.boxenplot(x = df['MSRP'])"
   ]
  },
  {
   "cell_type": "code",
   "execution_count": null,
   "id": "ba73b90c",
   "metadata": {},
   "outputs": [],
   "source": [
    "sns.boxenplot(x = df['Cylinders'])"
   ]
  },
  {
   "cell_type": "code",
   "execution_count": null,
   "id": "93abc86c",
   "metadata": {},
   "outputs": [],
   "source": [
    "Q1 = df.quantile(.25, numeric_only='True')\n",
    "Q3 = df.quantile(.75, numeric_only='True')\n",
    "IQR = Q3 - Q1\n",
    "print(IQR)"
   ]
  },
  {
   "cell_type": "code",
   "execution_count": null,
   "id": "67e6520d",
   "metadata": {},
   "outputs": [],
   "source": [
    "import matplotlib.pyplot as plt"
   ]
  },
  {
   "cell_type": "code",
   "execution_count": null,
   "id": "ac6ce208",
   "metadata": {},
   "outputs": [],
   "source": [
    "df.Make.value_counts().nlargest(40).plot(kind='bar', figsize=(10, 5))\n",
    "plt.title('Number of cars by make')\n",
    "plt.ylabel('number of cars')\n",
    "plt.xlabel('make')"
   ]
  },
  {
   "cell_type": "code",
   "execution_count": null,
   "id": "6533fb90",
   "metadata": {},
   "outputs": [],
   "source": [
    "numberic_df = df.select_dtypes(include=['number'])\n",
    "plt.figure(figsize=(10,5))\n",
    "c = numberic_df.corr()\n",
    "sns.heatmap(c, cmap=\"coolwarm\", annot=True)"
   ]
  }
 ],
 "metadata": {
  "kernelspec": {
   "display_name": "my_py (3.13.7)",
   "language": "python",
   "name": "python3"
  },
  "language_info": {
   "codemirror_mode": {
    "name": "ipython",
    "version": 3
   },
   "file_extension": ".py",
   "mimetype": "text/x-python",
   "name": "python",
   "nbconvert_exporter": "python",
   "pygments_lexer": "ipython3",
   "version": "3.13.7"
  }
 },
 "nbformat": 4,
 "nbformat_minor": 5
}
