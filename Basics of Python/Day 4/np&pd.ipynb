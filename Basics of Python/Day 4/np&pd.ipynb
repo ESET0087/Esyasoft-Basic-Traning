{
 "cells": [
  {
   "cell_type": "markdown",
   "id": "3f522490",
   "metadata": {},
   "source": [
    "# Numpy"
   ]
  },
  {
   "cell_type": "markdown",
   "id": "1bf8be45",
   "metadata": {},
   "source": [
    "Installing and importing numpy"
   ]
  },
  {
   "cell_type": "code",
   "execution_count": null,
   "id": "72b7a9fd",
   "metadata": {},
   "outputs": [],
   "source": [
    "import numpy as np"
   ]
  },
  {
   "cell_type": "markdown",
   "id": "d7bda651",
   "metadata": {},
   "source": [
    "Creating 1-D array"
   ]
  },
  {
   "cell_type": "code",
   "execution_count": null,
   "id": "ecfcbf93",
   "metadata": {},
   "outputs": [],
   "source": [
    "array = np.array([1,2,3])\n",
    "print(array)"
   ]
  },
  {
   "cell_type": "markdown",
   "id": "257e087b",
   "metadata": {},
   "source": [
    "Creating 2-D array"
   ]
  },
  {
   "cell_type": "code",
   "execution_count": null,
   "id": "e5857cfc",
   "metadata": {},
   "outputs": [],
   "source": [
    "matrix = np.array([[1, 2,3], [4, 5, 6]])\n",
    "print(matrix)"
   ]
  },
  {
   "cell_type": "markdown",
   "id": "80783cb4",
   "metadata": {},
   "source": [
    "Creating 3-D matrix"
   ]
  },
  {
   "cell_type": "code",
   "execution_count": null,
   "id": "70cda3a7",
   "metadata": {},
   "outputs": [],
   "source": [
    "cube = np.array([[[1,2], [2,3]],[[3,4], [4,5]]])\n",
    "print(cube)"
   ]
  },
  {
   "cell_type": "markdown",
   "id": "cdbd3867",
   "metadata": {},
   "source": [
    "# Pandas"
   ]
  },
  {
   "cell_type": "markdown",
   "id": "975df4ec",
   "metadata": {},
   "source": [
    "Installing and importing pandas"
   ]
  },
  {
   "cell_type": "code",
   "execution_count": null,
   "id": "d797c47a",
   "metadata": {},
   "outputs": [],
   "source": [
    "import pandas as pd"
   ]
  },
  {
   "cell_type": "markdown",
   "id": "6a9994cf",
   "metadata": {},
   "source": [
    "Series from list"
   ]
  },
  {
   "cell_type": "code",
   "execution_count": null,
   "id": "e6dc2972",
   "metadata": {},
   "outputs": [],
   "source": [
    "s = pd.Series([10, 20, 20, 40], name = \"myname\")\n",
    "print(f\"pandas series:\\n{s}\")"
   ]
  },
  {
   "cell_type": "markdown",
   "id": "efdd9994",
   "metadata": {},
   "source": [
    "DataFrame from dictionary"
   ]
  },
  {
   "cell_type": "code",
   "execution_count": null,
   "id": "43932ccf",
   "metadata": {},
   "outputs": [],
   "source": [
    "data = {\n",
    "    \"name\": [\"Dharmesh\", \"Suraj\"],\n",
    "    \"age\": [21, 25]\n",
    "}\n",
    "\n",
    "df = pd.DataFrame(data)\n",
    "print(df)"
   ]
  },
  {
   "cell_type": "markdown",
   "id": "bf3d4a10",
   "metadata": {},
   "source": [
    "Importing CSV file"
   ]
  },
  {
   "cell_type": "code",
   "execution_count": null,
   "id": "6b3f9b78",
   "metadata": {},
   "outputs": [],
   "source": [
    "df = pd.read_csv('datasets.csv')"
   ]
  },
  {
   "cell_type": "markdown",
   "id": "a3046fe8",
   "metadata": {},
   "source": [
    "Reading data"
   ]
  },
  {
   "cell_type": "code",
   "execution_count": null,
   "id": "40ddd576",
   "metadata": {},
   "outputs": [],
   "source": [
    "df.head(6)"
   ]
  },
  {
   "cell_type": "code",
   "execution_count": null,
   "id": "79ce8b61",
   "metadata": {},
   "outputs": [],
   "source": [
    "df.tail(6)"
   ]
  },
  {
   "cell_type": "code",
   "execution_count": null,
   "id": "58cc6510",
   "metadata": {},
   "outputs": [],
   "source": [
    "df.dtypes"
   ]
  },
  {
   "cell_type": "markdown",
   "id": "7cec11ca",
   "metadata": {},
   "source": [
    "Dropping a column"
   ]
  },
  {
   "cell_type": "code",
   "execution_count": null,
   "id": "dabe779b",
   "metadata": {},
   "outputs": [],
   "source": [
    "df = df.drop(['cloud'], axis=1)\n",
    "df.head()"
   ]
  },
  {
   "cell_type": "markdown",
   "id": "37fb606b",
   "metadata": {},
   "source": [
    "Renameing a column"
   ]
  },
  {
   "cell_type": "code",
   "execution_count": null,
   "id": "602120b8",
   "metadata": {},
   "outputs": [],
   "source": [
    "df = df.rename(columns={'datasetName': 'name'})\n",
    "df.head()"
   ]
  },
  {
   "cell_type": "code",
   "execution_count": null,
   "id": "4c67e109",
   "metadata": {},
   "outputs": [],
   "source": [
    "df.info()"
   ]
  },
  {
   "cell_type": "markdown",
   "id": "6928b9b0",
   "metadata": {},
   "source": [
    "Statistical Analysis"
   ]
  },
  {
   "cell_type": "code",
   "execution_count": null,
   "id": "6b4e79b4",
   "metadata": {},
   "outputs": [],
   "source": [
    "df.describe()"
   ]
  },
  {
   "cell_type": "code",
   "execution_count": null,
   "id": "e9c91aed",
   "metadata": {},
   "outputs": [],
   "source": [
    "df.shape"
   ]
  },
  {
   "cell_type": "markdown",
   "id": "0326f84e",
   "metadata": {},
   "source": [
    "Checking and Dropping Duplicates"
   ]
  },
  {
   "cell_type": "code",
   "execution_count": null,
   "id": "730d7f35",
   "metadata": {},
   "outputs": [],
   "source": [
    "duplicates = df[df.duplicated()]\n",
    "print(\"No of duplicates: \" , duplicates.shape)"
   ]
  },
  {
   "cell_type": "code",
   "execution_count": null,
   "id": "940faa20",
   "metadata": {},
   "outputs": [],
   "source": [
    "df.count()"
   ]
  },
  {
   "cell_type": "code",
   "execution_count": null,
   "id": "1e703b11",
   "metadata": {},
   "outputs": [],
   "source": [
    "df = df.drop_duplicates()\n",
    "df.shape"
   ]
  },
  {
   "cell_type": "markdown",
   "id": "501fc359",
   "metadata": {},
   "source": [
    "Dropping null values"
   ]
  },
  {
   "cell_type": "code",
   "execution_count": null,
   "id": "89ccc349",
   "metadata": {},
   "outputs": [],
   "source": [
    "df.isnull().sum()"
   ]
  },
  {
   "cell_type": "code",
   "execution_count": null,
   "id": "f02d8892",
   "metadata": {},
   "outputs": [],
   "source": [
    "df = df.dropna()\n",
    "df.info()"
   ]
  },
  {
   "cell_type": "markdown",
   "id": "2e598b8e",
   "metadata": {},
   "source": [
    "# Seaborn"
   ]
  },
  {
   "cell_type": "code",
   "execution_count": null,
   "id": "b47b0efb",
   "metadata": {},
   "outputs": [],
   "source": [
    "import seaborn as sns"
   ]
  },
  {
   "cell_type": "code",
   "execution_count": null,
   "id": "33ed1901",
   "metadata": {},
   "outputs": [],
   "source": [
    "sns.boxplot(x = df['vintage'])"
   ]
  },
  {
   "cell_type": "code",
   "execution_count": null,
   "id": "4fceafb0",
   "metadata": {},
   "outputs": [],
   "source": [
    "Q1 = df['vintage'].quantile(.25)\n",
    "Q3 = df['vintage'].quantile(.75)\n",
    "IQR = Q3 - Q1\n",
    "print(IQR)"
   ]
  }
 ],
 "metadata": {
  "kernelspec": {
   "display_name": "my_py (3.13.7)",
   "language": "python",
   "name": "python3"
  },
  "language_info": {
   "codemirror_mode": {
    "name": "ipython",
    "version": 3
   },
   "file_extension": ".py",
   "mimetype": "text/x-python",
   "name": "python",
   "nbconvert_exporter": "python",
   "pygments_lexer": "ipython3",
   "version": "3.13.7"
  }
 },
 "nbformat": 4,
 "nbformat_minor": 5
}
